{
  "nbformat": 4,
  "nbformat_minor": 0,
  "metadata": {
    "colab": {
      "name": "Resnet_pytorch.ipynb",
      "provenance": [],
      "collapsed_sections": []
    },
    "kernelspec": {
      "name": "python3",
      "display_name": "Python 3"
    },
    "accelerator": "GPU"
  },
  "cells": [
    {
      "cell_type": "markdown",
      "metadata": {
        "id": "FoB2YD5tJ1ps"
      },
      "source": [
        "-----\n",
        "\n",
        "# Import"
      ]
    },
    {
      "cell_type": "code",
      "metadata": {
        "id": "AJ68tgejI39t"
      },
      "source": [
        "import os\n",
        "import random\n",
        "import numpy as np\n",
        "import torch\n",
        "import torch.nn as nn\n",
        "import torch.optim as optim\n",
        "import torchvision.transforms as transforms\n",
        "import torchvision\n",
        "import torch.nn.functional as F\n",
        "\n",
        "from torchsummary import summary\n",
        "\n",
        "\n",
        "\n",
        "from torch.utils.data import DataLoader, SubsetRandomSampler\n",
        "from torch.nn import CrossEntropyLoss\n",
        "\n",
        "import cv2\n",
        "import numpy as np\n",
        "import matplotlib.pyplot as plt\n",
        "\n",
        "from torch.utils.data import DataLoader, SubsetRandomSampler\n",
        "from torch.nn import CrossEntropyLoss\n",
        "from torchvision.datasets import CIFAR10"
      ],
      "execution_count": 150,
      "outputs": []
    },
    {
      "cell_type": "markdown",
      "metadata": {
        "id": "3_HZUMe1J4tX"
      },
      "source": [
        "-----\n",
        "\n",
        "# Load and split data"
      ]
    },
    {
      "cell_type": "code",
      "metadata": {
        "colab": {
          "base_uri": "https://localhost:8080/"
        },
        "id": "p3IEUWtLJT69",
        "outputId": "db310e47-7bbe-4dec-c2b5-401bff12d0d6"
      },
      "source": [
        "transform = transforms.Compose(\n",
        "    [transforms.ToTensor(),\n",
        "     transforms.Normalize((0.5, 0.5, 0.5), (0.5, 0.5, 0.5))])\n",
        "\n",
        "train_dataset = torchvision.datasets.CIFAR10(root='./data', train=True,\n",
        "                                        download=True, transform=transform)\n",
        "\n",
        "test_dataset = torchvision.datasets.CIFAR10(root='./data', train=False,\n",
        "                                       download=True, transform=transform)\n",
        "\n",
        "\n",
        "classes = ('plane', 'car', 'bird', 'cat', 'deer', 'dog', 'frog', 'horse', 'ship', 'truck')"
      ],
      "execution_count": 151,
      "outputs": [
        {
          "output_type": "stream",
          "text": [
            "Files already downloaded and verified\n",
            "Files already downloaded and verified\n"
          ],
          "name": "stdout"
        }
      ]
    },
    {
      "cell_type": "code",
      "metadata": {
        "id": "1Kit1D74JWNj"
      },
      "source": [
        "validation_ratio=0.1\n",
        "random_seed= 17\n",
        "\n",
        "num_train = len(train_dataset)\n",
        "indices = list(range(num_train))\n",
        "split = int(np.floor(validation_ratio * num_train))\n",
        "\n",
        "np.random.seed(random_seed)\n",
        "np.random.shuffle(indices)\n",
        "\n",
        "train_idx, valid_idx = indices[split:], indices[:split]\n",
        "train_sampler = SubsetRandomSampler(train_idx)\n",
        "valid_sampler = SubsetRandomSampler(valid_idx)\n",
        "\n",
        "trainloader = DataLoader(train_dataset, batch_size=4,\n",
        "                                          sampler=train_sampler, num_workers=2)\n",
        "validloader = DataLoader(train_dataset, batch_size=4,\n",
        "                                          sampler=valid_sampler, num_workers=2)\n",
        "testloader = DataLoader(test_dataset, batch_size=4,\n",
        "                                         shuffle=False, num_workers=2)\n",
        "\n",
        "# week 9 에서는 batch_size = 1000, num_workers = int(cpu_count() / 2)"
      ],
      "execution_count": 152,
      "outputs": []
    },
    {
      "cell_type": "code",
      "metadata": {
        "colab": {
          "base_uri": "https://localhost:8080/"
        },
        "id": "QChd-LawJYqF",
        "outputId": "db1b6c26-f4aa-486b-ae6a-b4cb5d12ee5b"
      },
      "source": [
        "print(\"train set : \",len(train_sampler))\n",
        "print(\"validation set : \",len(valid_sampler))\n",
        "print(\"test set : \",len(test_dataset))"
      ],
      "execution_count": 153,
      "outputs": [
        {
          "output_type": "stream",
          "text": [
            "train set :  45000\n",
            "validation set :  5000\n",
            "test set :  10000\n"
          ],
          "name": "stdout"
        }
      ]
    },
    {
      "cell_type": "markdown",
      "metadata": {
        "id": "D9JcU3VbJtfF"
      },
      "source": [
        "-----\n",
        "\n",
        "# Make module\n",
        "\n"
      ]
    },
    {
      "cell_type": "code",
      "metadata": {
        "id": "Rx5bfuolJvG-"
      },
      "source": [
        "device = torch.device('cuda') if torch.cuda.is_available() else torch.device('cpu')"
      ],
      "execution_count": 154,
      "outputs": []
    },
    {
      "cell_type": "code",
      "metadata": {
        "id": "sm6I9pc3QLzJ"
      },
      "source": [
        "class ResidualBlock(nn.Module):\n",
        "    def __init__(self, in_channels, out_channels, stride=1):\n",
        "        super(ResidualBlock, self).__init__()\n",
        "        self.conv1 = nn.Conv2d(in_channels, out_channels, kernel_size=3, stride=stride, padding=1, bias=False)\n",
        "        self.bn1 = nn.BatchNorm2d(out_channels)\n",
        "        self.relu = nn.ReLU(inplace=True)\n",
        "\n",
        "        self.conv2 = nn.Conv2d(out_channels, out_channels, kernel_size=3,stride=stride, padding=1, bias=False)\n",
        "        self.bn2 = nn.BatchNorm2d(out_channels)\n",
        "        self.stride = stride\n",
        "\n",
        "        # residualblock has two convolutional layer.\n",
        "\n",
        "        self.identity = nn.Sequential()\n",
        "        if stride != 1 or in_channels != out_channels:\n",
        "          self.identity = nn.Sequential(\n",
        "              nn.Conv2d(in_channels, out_channels, kernel_size=1, stride=stride, bias=False),\n",
        "              nn.BatchNorm2d(out_channels)\n",
        "          )\n",
        "\n",
        "\n",
        "    def forward(self, x):\n",
        "\n",
        "        out = self.conv1(x)\n",
        "        out = self.bn1(out)\n",
        "        out = self.relu(out)\n",
        "\n",
        "        out = self.conv2(out)\n",
        "        out = self.bn2(out)\n",
        "\n",
        "        return self.relu(out + self.identity(x))\n",
        "\n",
        "# I made residualblock with lecture contents. but i realized, in H(x) = F(x)+ x , they are different tensor. so i added code which matching tensor .\n",
        "\n",
        "class ResidualBlock2(nn.Module):\n",
        "    def __init__(self, in_channels, out_channels, stride=1):\n",
        "        super().__init__()\n",
        "        self.residualfunc = nn.Sequential(\n",
        "            nn.Conv2d(in_channels, out_channels, kernel_size=3, stride=stride, padding=1, bias=False),\n",
        "            nn.BatchNorm2d(out_channels),\n",
        "            nn.ReLU(inplace=True),\n",
        "\n",
        "            nn.Conv2d(out_channels, out_channels, kernel_size=3, padding=1, bias=False),\n",
        "            nn.BatchNorm2d(out_channels)\n",
        "        )\n",
        "\n",
        "        # residualblock has two convolutional layer.\n",
        "\n",
        "        self.identity = nn.Sequential()\n",
        "        if stride != 1 or in_channels != out_channels:\n",
        "          self.identity = nn.Sequential(\n",
        "              nn.Conv2d(in_channels, out_channels, kernel_size=1, stride=stride, bias=False),\n",
        "              nn.BatchNorm2d(out_channels)\n",
        "          )\n",
        "\n",
        "        # F(x) + x(identity) before activate fucntion, should same tensor F(x) and identity \n",
        "\n",
        "    def forward(self, x):\n",
        "        return nn.ReLU(inplace=True)(self.residualfunc(x) + self.identity(x))"
      ],
      "execution_count": 162,
      "outputs": []
    },
    {
      "cell_type": "code",
      "metadata": {
        "id": "RtEiBsIzeG1O"
      },
      "source": [
        "class ResNet(nn.Module):\n",
        "\n",
        "    def __init__(self, block, num_block, num_classes=10):\n",
        "        super(ResNet, self).__init__() \n",
        "\n",
        "        self.in_channels = 64\n",
        "\n",
        "        self.conv1x = nn.Sequential(\n",
        "            nn.Conv2d(3, 64, kernel_size=3, padding=1, bias=False), \n",
        "            nn.BatchNorm2d(64),                                     # out_channels = 64.\n",
        "            nn.ReLU(inplace=True))\n",
        "        \n",
        "        self.conv2x = self.get_layers(block, 64, num_block[0], 1)   # 3*3, 64\n",
        "        self.conv3x = self.get_layers(block, 128, num_block[1], 2)  # 3*3, 128\n",
        "        self.conv4x = self.get_layers(block, 256, num_block[2], 2)  # 3*3, 256\n",
        "        self.conv5x = self.get_layers(block, 512, num_block[3], 2)  # 3*3, 512\n",
        "        self.avg_pool = nn.AdaptiveAvgPool2d((1, 1))\n",
        "        self.fc = nn.Linear(512, num_classes)\n",
        "\n",
        "    def get_layers(self, block, out_channels, num_blocks, stride):\n",
        "      \n",
        "        strides = [stride] + [1] * (num_blocks - 1)\n",
        "        layers = []\n",
        "        for stride in strides:\n",
        "            layers.append(block(self.in_channels, out_channels, stride))\n",
        "            self.in_channels = out_channels\n",
        "\n",
        "        return nn.Sequential(*layers)\n",
        "\n",
        "    def forward(self, x):\n",
        "\n",
        "        output = self.conv1x(x)\n",
        "\n",
        "        output = self.conv2x(output)\n",
        "        output = self.conv3x(output)\n",
        "        output = self.conv4x(output)\n",
        "        output = self.conv5x(output)\n",
        "        output = self.avg_pool(output)\n",
        "\n",
        "        output = output.view(output.size(0), -1)\n",
        "\n",
        "        output = self.fc(output)\n",
        "\n",
        "        return output"
      ],
      "execution_count": 163,
      "outputs": []
    },
    {
      "cell_type": "code",
      "metadata": {
        "colab": {
          "base_uri": "https://localhost:8080/"
        },
        "id": "l69G9jnu6oMv",
        "outputId": "55dfa54d-2459-46d1-d00e-13efb2c0f64a"
      },
      "source": [
        "#model = ResNet(ResidualBlock, [2, 2, 2, 2]).to('cuda')\n",
        "\n",
        "model = ResNet(ResidualBlock2, [2, 2, 2, 2]).to('cuda') \n",
        "# use ResidualBlock2 block, and [2, 2, 2, 2] => resnet-18 ( each conv2_x~conv5_x are *2)\n",
        "\n",
        "summary(model, (3,32,32))"
      ],
      "execution_count": 164,
      "outputs": [
        {
          "output_type": "stream",
          "text": [
            "----------------------------------------------------------------\n",
            "        Layer (type)               Output Shape         Param #\n",
            "================================================================\n",
            "            Conv2d-1           [-1, 64, 32, 32]           1,728\n",
            "       BatchNorm2d-2           [-1, 64, 32, 32]             128\n",
            "              ReLU-3           [-1, 64, 32, 32]               0\n",
            "            Conv2d-4           [-1, 64, 32, 32]          36,864\n",
            "       BatchNorm2d-5           [-1, 64, 32, 32]             128\n",
            "              ReLU-6           [-1, 64, 32, 32]               0\n",
            "            Conv2d-7           [-1, 64, 32, 32]          36,864\n",
            "       BatchNorm2d-8           [-1, 64, 32, 32]             128\n",
            "    ResidualBlock2-9           [-1, 64, 32, 32]               0\n",
            "           Conv2d-10           [-1, 64, 32, 32]          36,864\n",
            "      BatchNorm2d-11           [-1, 64, 32, 32]             128\n",
            "             ReLU-12           [-1, 64, 32, 32]               0\n",
            "           Conv2d-13           [-1, 64, 32, 32]          36,864\n",
            "      BatchNorm2d-14           [-1, 64, 32, 32]             128\n",
            "   ResidualBlock2-15           [-1, 64, 32, 32]               0\n",
            "           Conv2d-16          [-1, 128, 16, 16]          73,728\n",
            "      BatchNorm2d-17          [-1, 128, 16, 16]             256\n",
            "             ReLU-18          [-1, 128, 16, 16]               0\n",
            "           Conv2d-19          [-1, 128, 16, 16]         147,456\n",
            "      BatchNorm2d-20          [-1, 128, 16, 16]             256\n",
            "           Conv2d-21          [-1, 128, 16, 16]           8,192\n",
            "      BatchNorm2d-22          [-1, 128, 16, 16]             256\n",
            "   ResidualBlock2-23          [-1, 128, 16, 16]               0\n",
            "           Conv2d-24          [-1, 128, 16, 16]         147,456\n",
            "      BatchNorm2d-25          [-1, 128, 16, 16]             256\n",
            "             ReLU-26          [-1, 128, 16, 16]               0\n",
            "           Conv2d-27          [-1, 128, 16, 16]         147,456\n",
            "      BatchNorm2d-28          [-1, 128, 16, 16]             256\n",
            "   ResidualBlock2-29          [-1, 128, 16, 16]               0\n",
            "           Conv2d-30            [-1, 256, 8, 8]         294,912\n",
            "      BatchNorm2d-31            [-1, 256, 8, 8]             512\n",
            "             ReLU-32            [-1, 256, 8, 8]               0\n",
            "           Conv2d-33            [-1, 256, 8, 8]         589,824\n",
            "      BatchNorm2d-34            [-1, 256, 8, 8]             512\n",
            "           Conv2d-35            [-1, 256, 8, 8]          32,768\n",
            "      BatchNorm2d-36            [-1, 256, 8, 8]             512\n",
            "   ResidualBlock2-37            [-1, 256, 8, 8]               0\n",
            "           Conv2d-38            [-1, 256, 8, 8]         589,824\n",
            "      BatchNorm2d-39            [-1, 256, 8, 8]             512\n",
            "             ReLU-40            [-1, 256, 8, 8]               0\n",
            "           Conv2d-41            [-1, 256, 8, 8]         589,824\n",
            "      BatchNorm2d-42            [-1, 256, 8, 8]             512\n",
            "   ResidualBlock2-43            [-1, 256, 8, 8]               0\n",
            "           Conv2d-44            [-1, 512, 4, 4]       1,179,648\n",
            "      BatchNorm2d-45            [-1, 512, 4, 4]           1,024\n",
            "             ReLU-46            [-1, 512, 4, 4]               0\n",
            "           Conv2d-47            [-1, 512, 4, 4]       2,359,296\n",
            "      BatchNorm2d-48            [-1, 512, 4, 4]           1,024\n",
            "           Conv2d-49            [-1, 512, 4, 4]         131,072\n",
            "      BatchNorm2d-50            [-1, 512, 4, 4]           1,024\n",
            "   ResidualBlock2-51            [-1, 512, 4, 4]               0\n",
            "           Conv2d-52            [-1, 512, 4, 4]       2,359,296\n",
            "      BatchNorm2d-53            [-1, 512, 4, 4]           1,024\n",
            "             ReLU-54            [-1, 512, 4, 4]               0\n",
            "           Conv2d-55            [-1, 512, 4, 4]       2,359,296\n",
            "      BatchNorm2d-56            [-1, 512, 4, 4]           1,024\n",
            "   ResidualBlock2-57            [-1, 512, 4, 4]               0\n",
            "AdaptiveAvgPool2d-58            [-1, 512, 1, 1]               0\n",
            "           Linear-59                   [-1, 10]           5,130\n",
            "================================================================\n",
            "Total params: 11,173,962\n",
            "Trainable params: 11,173,962\n",
            "Non-trainable params: 0\n",
            "----------------------------------------------------------------\n",
            "Input size (MB): 0.01\n",
            "Forward/backward pass size (MB): 13.63\n",
            "Params size (MB): 42.63\n",
            "Estimated Total Size (MB): 56.27\n",
            "----------------------------------------------------------------\n"
          ],
          "name": "stdout"
        }
      ]
    },
    {
      "cell_type": "markdown",
      "metadata": {
        "id": "eTl3XxtoNoN_"
      },
      "source": [
        "----\n",
        "# Training model"
      ]
    },
    {
      "cell_type": "code",
      "metadata": {
        "id": "xFX2ok3267Ha"
      },
      "source": [
        "criterion = CrossEntropyLoss()\n",
        "optimizer = optim.Adam(params=model.parameters(), lr=0.1, weight_decay=0.0001)\n",
        "scheduler = optim.lr_scheduler.ReduceLROnPlateau(optimizer=optimizer, patience=3, verbose=True)"
      ],
      "execution_count": 165,
      "outputs": []
    },
    {
      "cell_type": "code",
      "metadata": {
        "id": "Z5Rjp0tYN0yx"
      },
      "source": [
        "train_total = len(train_idx)\n",
        "valid_total = len(valid_idx)\n",
        "\n",
        "train_batches = len(trainloader)\n",
        "valid_batches = len(validloader)\n",
        "\n",
        "# Variables for lr scheduling and early stopping\n",
        "best_valid_loss = 1024    # Any large number will suffice\n",
        "patience = 0    # Bad epoch counter"
      ],
      "execution_count": 166,
      "outputs": []
    },
    {
      "cell_type": "code",
      "metadata": {
        "colab": {
          "base_uri": "https://localhost:8080/"
        },
        "id": "qQFv1xXUOSpQ",
        "outputId": "ac915e66-eb7d-40c7-b72a-2c72fb89d6de"
      },
      "source": [
        "for epoch in range(10):\n",
        "    # Train\n",
        "    model.train()\n",
        "    \n",
        "    train_loss = 0\n",
        "    train_correct = 0\n",
        "    \n",
        "    for x, y in trainloader:\n",
        "        x = x.to(device)\n",
        "        y = y.to(device)\n",
        "        outputs = model(x)\n",
        "        loss = criterion(outputs, y)\n",
        "        \n",
        "        optimizer.zero_grad()\n",
        "        \n",
        "        loss.backward()\n",
        "        optimizer.step()\n",
        "        \n",
        "        train_loss += loss.item()\n",
        "        _, predicted = outputs.max(1)\n",
        "        train_correct += predicted.eq(y).sum().item()\n",
        "        \n",
        "    train_loss = train_loss / train_batches\n",
        "    train_acc = train_correct / train_total\n",
        "    \n",
        "    # Validate\n",
        "    model.eval()\n",
        "    \n",
        "    valid_loss = 0\n",
        "    valid_correct = 0\n",
        "    \n",
        "    with torch.no_grad():\n",
        "        for x, y in validloader:\n",
        "            x = x.to(device)\n",
        "            y = y.to(device)\n",
        "            outputs = model(x)\n",
        "            loss = criterion(outputs, y)\n",
        "            \n",
        "            valid_loss += loss.item()\n",
        "            _, predicted = outputs.max(1)\n",
        "            valid_correct += predicted.eq(y).sum().item()\n",
        "            \n",
        "    valid_loss = valid_loss / valid_batches\n",
        "    valid_acc = valid_correct / valid_total\n",
        "    \n",
        "    if best_valid_loss > valid_loss:\n",
        "        torch.save(model.state_dict(), './best_resnet.pth')\n",
        "        best_valid_loss = valid_loss\n",
        "        patience = 0\n",
        "        \n",
        "    print('[%2d] TRAIN loss: %.3f, acc: %.3f, lr: %f .... VALID loss: %.3F, acc: %.3f, best_loss: %.3f .... PATIENCE %d' \n",
        "          % (epoch+1, train_loss, train_acc, optimizer.param_groups[0]['lr'], valid_loss, valid_acc, best_valid_loss, patience))\n",
        "    \n",
        "    scheduler.step(metrics=valid_loss)\n",
        "    \n",
        "    if patience == 5:\n",
        "        break\n",
        "        \n",
        "    patience += 1"
      ],
      "execution_count": 173,
      "outputs": [
        {
          "output_type": "stream",
          "text": [
            "[ 1] TRAIN loss: 1.989, acc: 0.244, lr: 0.010000 .... VALID loss: 1.694, acc: 0.342, best_loss: 1.694 .... PATIENCE 0\n",
            "[ 2] TRAIN loss: 1.680, acc: 0.374, lr: 0.010000 .... VALID loss: 1.670, acc: 0.401, best_loss: 1.670 .... PATIENCE 0\n",
            "[ 3] TRAIN loss: 1.583, acc: 0.409, lr: 0.010000 .... VALID loss: 1.510, acc: 0.424, best_loss: 1.510 .... PATIENCE 0\n",
            "[ 4] TRAIN loss: 1.518, acc: 0.435, lr: 0.010000 .... VALID loss: 1.394, acc: 0.481, best_loss: 1.394 .... PATIENCE 0\n",
            "[ 5] TRAIN loss: 1.476, acc: 0.460, lr: 0.010000 .... VALID loss: 1.481, acc: 0.443, best_loss: 1.394 .... PATIENCE 1\n",
            "[ 6] TRAIN loss: 1.437, acc: 0.475, lr: 0.010000 .... VALID loss: 1.467, acc: 0.471, best_loss: 1.394 .... PATIENCE 2\n",
            "[ 7] TRAIN loss: 1.400, acc: 0.495, lr: 0.010000 .... VALID loss: 1.343, acc: 0.514, best_loss: 1.343 .... PATIENCE 0\n",
            "[ 8] TRAIN loss: 1.366, acc: 0.505, lr: 0.010000 .... VALID loss: 1.428, acc: 0.488, best_loss: 1.343 .... PATIENCE 1\n",
            "[ 9] TRAIN loss: 1.346, acc: 0.518, lr: 0.010000 .... VALID loss: 1.355, acc: 0.518, best_loss: 1.343 .... PATIENCE 2\n",
            "[10] TRAIN loss: 1.337, acc: 0.518, lr: 0.010000 .... VALID loss: 1.284, acc: 0.535, best_loss: 1.284 .... PATIENCE 0\n"
          ],
          "name": "stdout"
        }
      ]
    },
    {
      "cell_type": "code",
      "metadata": {
        "colab": {
          "base_uri": "https://localhost:8080/"
        },
        "id": "4iq7YpTvtpqE",
        "outputId": "f7bba1a2-c636-421e-cf2a-e68f1f9a1272"
      },
      "source": [
        "model = ResNet(ResidualBlock2, [2, 2, 2, 2]).to(device)\n",
        "model.load_state_dict(torch.load('./best_resnet.pth'))"
      ],
      "execution_count": 177,
      "outputs": [
        {
          "output_type": "execute_result",
          "data": {
            "text/plain": [
              "<All keys matched successfully>"
            ]
          },
          "metadata": {
            "tags": []
          },
          "execution_count": 177
        }
      ]
    },
    {
      "cell_type": "code",
      "metadata": {
        "colab": {
          "base_uri": "https://localhost:8080/"
        },
        "id": "2MKch_Jmua6e",
        "outputId": "c795a135-02f5-4648-dc94-ce7b2faa7b21"
      },
      "source": [
        "for epoch in range(5):\n",
        "    # Train\n",
        "    model.train()\n",
        "    \n",
        "    train_loss = 0\n",
        "    train_correct = 0\n",
        "    \n",
        "    for x, y in trainloader:\n",
        "        x = x.to(device)\n",
        "        y = y.to(device)\n",
        "        outputs = model(x)\n",
        "        loss = criterion(outputs, y)\n",
        "        \n",
        "        optimizer.zero_grad()\n",
        "        \n",
        "        loss.backward()\n",
        "        optimizer.step()\n",
        "        \n",
        "        train_loss += loss.item()\n",
        "        _, predicted = outputs.max(1)\n",
        "        train_correct += predicted.eq(y).sum().item()\n",
        "        \n",
        "    train_loss = train_loss / train_batches\n",
        "    train_acc = train_correct / train_total\n",
        "    \n",
        "    # Validate\n",
        "    model.eval()\n",
        "    \n",
        "    valid_loss = 0\n",
        "    valid_correct = 0\n",
        "    \n",
        "    with torch.no_grad():\n",
        "        for x, y in validloader:\n",
        "            x = x.to(device)\n",
        "            y = y.to(device)\n",
        "            outputs = model(x)\n",
        "            loss = criterion(outputs, y)\n",
        "            \n",
        "            valid_loss += loss.item()\n",
        "            _, predicted = outputs.max(1)\n",
        "            valid_correct += predicted.eq(y).sum().item()\n",
        "            \n",
        "    valid_loss = valid_loss / valid_batches\n",
        "    valid_acc = valid_correct / valid_total\n",
        "    \n",
        "    if best_valid_loss > valid_loss:\n",
        "        torch.save(model.state_dict(), './best_resnet.pth')\n",
        "        best_valid_loss = valid_loss\n",
        "        patience = 0\n",
        "        \n",
        "    print('[%2d] TRAIN loss: %.3f, acc: %.3f, lr: %f .... VALID loss: %.3F, acc: %.3f, best_loss: %.3f .... PATIENCE %d' \n",
        "          % (epoch+1, train_loss, train_acc, optimizer.param_groups[0]['lr'], valid_loss, valid_acc, best_valid_loss, patience))\n",
        "    \n",
        "    scheduler.step(metrics=valid_loss)\n",
        "    \n",
        "    if patience == 5:\n",
        "        break\n",
        "        \n",
        "    patience += 1"
      ],
      "execution_count": 179,
      "outputs": [
        {
          "output_type": "stream",
          "text": [
            "[ 1] TRAIN loss: 1.334, acc: 0.519, lr: 0.010000 .... VALID loss: 1.265, acc: 0.542, best_loss: 1.265 .... PATIENCE 0\n",
            "[ 2] TRAIN loss: 1.337, acc: 0.517, lr: 0.010000 .... VALID loss: 1.275, acc: 0.543, best_loss: 1.265 .... PATIENCE 1\n",
            "[ 3] TRAIN loss: 1.338, acc: 0.518, lr: 0.010000 .... VALID loss: 1.288, acc: 0.535, best_loss: 1.265 .... PATIENCE 2\n",
            "[ 4] TRAIN loss: 1.336, acc: 0.517, lr: 0.010000 .... VALID loss: 1.299, acc: 0.534, best_loss: 1.265 .... PATIENCE 3\n",
            "[ 5] TRAIN loss: 1.333, acc: 0.518, lr: 0.010000 .... VALID loss: 1.257, acc: 0.544, best_loss: 1.257 .... PATIENCE 0\n"
          ],
          "name": "stdout"
        }
      ]
    },
    {
      "cell_type": "code",
      "metadata": {
        "colab": {
          "base_uri": "https://localhost:8080/"
        },
        "id": "epkIu2SMzmrO",
        "outputId": "085e417b-997c-4a96-eb71-20a5933d3cca"
      },
      "source": [
        "model = ResNet(ResidualBlock2, [2, 2, 2, 2]).to(device)\n",
        "model.load_state_dict(torch.load('./best_resnet.pth'))"
      ],
      "execution_count": 182,
      "outputs": [
        {
          "output_type": "execute_result",
          "data": {
            "text/plain": [
              "<All keys matched successfully>"
            ]
          },
          "metadata": {
            "tags": []
          },
          "execution_count": 182
        }
      ]
    },
    {
      "cell_type": "code",
      "metadata": {
        "colab": {
          "base_uri": "https://localhost:8080/"
        },
        "id": "DaDzEjmmzqz4",
        "outputId": "c21eb22e-aa90-4a26-8be0-d8bf14a9288f"
      },
      "source": [
        "for epoch in range(3):\n",
        "    # Train\n",
        "    model.train()\n",
        "    \n",
        "    train_loss = 0\n",
        "    train_correct = 0\n",
        "    \n",
        "    for x, y in trainloader:\n",
        "        x = x.to(device)\n",
        "        y = y.to(device)\n",
        "        outputs = model(x)\n",
        "        loss = criterion(outputs, y)\n",
        "        \n",
        "        optimizer.zero_grad()\n",
        "        \n",
        "        loss.backward()\n",
        "        optimizer.step()\n",
        "        \n",
        "        train_loss += loss.item()\n",
        "        _, predicted = outputs.max(1)\n",
        "        train_correct += predicted.eq(y).sum().item()\n",
        "        \n",
        "    train_loss = train_loss / train_batches\n",
        "    train_acc = train_correct / train_total\n",
        "    \n",
        "    # Validate\n",
        "    model.eval()\n",
        "    \n",
        "    valid_loss = 0\n",
        "    valid_correct = 0\n",
        "    \n",
        "    with torch.no_grad():\n",
        "        for x, y in validloader:\n",
        "            x = x.to(device)\n",
        "            y = y.to(device)\n",
        "            outputs = model(x)\n",
        "            loss = criterion(outputs, y)\n",
        "            \n",
        "            valid_loss += loss.item()\n",
        "            _, predicted = outputs.max(1)\n",
        "            valid_correct += predicted.eq(y).sum().item()\n",
        "            \n",
        "    valid_loss = valid_loss / valid_batches\n",
        "    valid_acc = valid_correct / valid_total\n",
        "    \n",
        "    if best_valid_loss > valid_loss:\n",
        "        torch.save(model.state_dict(), './best_resnet.pth')\n",
        "        best_valid_loss = valid_loss\n",
        "        patience = 0\n",
        "        \n",
        "    print('[%2d] TRAIN loss: %.3f, acc: %.3f, lr: %f .... VALID loss: %.3F, acc: %.3f, best_loss: %.3f .... PATIENCE %d' \n",
        "          % (epoch+1, train_loss, train_acc, optimizer.param_groups[0]['lr'], valid_loss, valid_acc, best_valid_loss, patience))\n",
        "    \n",
        "    scheduler.step(metrics=valid_loss)\n",
        "    \n",
        "    if patience == 5:\n",
        "        break\n",
        "        \n",
        "    patience += 1"
      ],
      "execution_count": 183,
      "outputs": [
        {
          "output_type": "stream",
          "text": [
            "[ 1] TRAIN loss: 1.336, acc: 0.518, lr: 0.010000 .... VALID loss: 1.289, acc: 0.536, best_loss: 1.257 .... PATIENCE 1\n",
            "[ 2] TRAIN loss: 1.332, acc: 0.519, lr: 0.010000 .... VALID loss: 1.259, acc: 0.546, best_loss: 1.257 .... PATIENCE 2\n",
            "[ 3] TRAIN loss: 1.336, acc: 0.518, lr: 0.010000 .... VALID loss: 1.265, acc: 0.543, best_loss: 1.257 .... PATIENCE 3\n"
          ],
          "name": "stdout"
        }
      ]
    },
    {
      "cell_type": "markdown",
      "metadata": {
        "id": "3J34kOmJPgye"
      },
      "source": [
        "------\n",
        "\n",
        "# Test model"
      ]
    },
    {
      "cell_type": "code",
      "metadata": {
        "id": "PxehgG-wOwFI",
        "colab": {
          "base_uri": "https://localhost:8080/"
        },
        "outputId": "036d5af6-055c-4fd2-9f6e-6d4bdea7794e"
      },
      "source": [
        "loaded = ResNet(ResidualBlock2, [2, 2, 2, 2]).to(device)\n",
        "loaded.load_state_dict(torch.load('./best_resnet.pth'))"
      ],
      "execution_count": 184,
      "outputs": [
        {
          "output_type": "execute_result",
          "data": {
            "text/plain": [
              "<All keys matched successfully>"
            ]
          },
          "metadata": {
            "tags": []
          },
          "execution_count": 184
        }
      ]
    },
    {
      "cell_type": "code",
      "metadata": {
        "id": "ki-hyvvdPnBd",
        "colab": {
          "base_uri": "https://localhost:8080/"
        },
        "outputId": "29a56942-fea0-4cfa-fbdb-df142e58fe6a"
      },
      "source": [
        "# Test\n",
        "loaded.eval()\n",
        "\n",
        "test_loss = 0\n",
        "test_correct = 0\n",
        "\n",
        "with torch.no_grad():\n",
        "    for i, (x, y) in enumerate(testloader):\n",
        "        x = x.to(device)\n",
        "        y = y.to(device)\n",
        "        outputs = loaded(x)\n",
        "        loss = criterion(outputs, y)\n",
        "        \n",
        "        test_loss += loss.item()\n",
        "        _, predicted = outputs.max(1)\n",
        "        test_correct += predicted.eq(y).sum().item()\n",
        "        \n",
        "        if i == 0:\n",
        "            test_preds = predicted\n",
        "        else:\n",
        "            test_preds = torch.cat((test_preds, predicted), dim=0)\n",
        "            \n",
        "test_preds = test_preds.cpu()\n",
        "\n",
        "print('TEST loss: %.4f, acc: %.4f' % (test_loss/len(testloader), test_correct/len(test_dataset)))"
      ],
      "execution_count": 185,
      "outputs": [
        {
          "output_type": "stream",
          "text": [
            "TEST loss: 1.2571, acc: 0.5519\n"
          ],
          "name": "stdout"
        }
      ]
    },
    {
      "cell_type": "markdown",
      "metadata": {
        "id": "-l_qiZ8Z21Y5"
      },
      "source": [
        "my test acc is 55% "
      ]
    },
    {
      "cell_type": "markdown",
      "metadata": {
        "id": "4PvJxWpePkBW"
      },
      "source": [
        ""
      ]
    }
  ]
}