{
  "nbformat": 4,
  "nbformat_minor": 0,
  "metadata": {
    "colab": {
      "name": "2015310908_임성규_hw7(resubmit).ipynb",
      "provenance": [],
      "collapsed_sections": [],
      "toc_visible": true
    },
    "kernelspec": {
      "name": "python3",
      "display_name": "Python 3"
    },
    "accelerator": "GPU",
    "widgets": {
      "application/vnd.jupyter.widget-state+json": {
        "e263667ffe3c49e6a35a1f06d4261879": {
          "model_module": "@jupyter-widgets/controls",
          "model_name": "HBoxModel",
          "state": {
            "_view_name": "HBoxView",
            "_dom_classes": [],
            "_model_name": "HBoxModel",
            "_view_module": "@jupyter-widgets/controls",
            "_model_module_version": "1.5.0",
            "_view_count": null,
            "_view_module_version": "1.5.0",
            "box_style": "",
            "layout": "IPY_MODEL_4a004b8afea642e1998bb68e9d36be1d",
            "_model_module": "@jupyter-widgets/controls",
            "children": [
              "IPY_MODEL_1ef600f9c80447f3b24aa291bfdd448b",
              "IPY_MODEL_09b9a7a5e5ef441696f4f9934bed36cf"
            ]
          }
        },
        "4a004b8afea642e1998bb68e9d36be1d": {
          "model_module": "@jupyter-widgets/base",
          "model_name": "LayoutModel",
          "state": {
            "_view_name": "LayoutView",
            "grid_template_rows": null,
            "right": null,
            "justify_content": null,
            "_view_module": "@jupyter-widgets/base",
            "overflow": null,
            "_model_module_version": "1.2.0",
            "_view_count": null,
            "flex_flow": null,
            "width": null,
            "min_width": null,
            "border": null,
            "align_items": null,
            "bottom": null,
            "_model_module": "@jupyter-widgets/base",
            "top": null,
            "grid_column": null,
            "overflow_y": null,
            "overflow_x": null,
            "grid_auto_flow": null,
            "grid_area": null,
            "grid_template_columns": null,
            "flex": null,
            "_model_name": "LayoutModel",
            "justify_items": null,
            "grid_row": null,
            "max_height": null,
            "align_content": null,
            "visibility": null,
            "align_self": null,
            "height": null,
            "min_height": null,
            "padding": null,
            "grid_auto_rows": null,
            "grid_gap": null,
            "max_width": null,
            "order": null,
            "_view_module_version": "1.2.0",
            "grid_template_areas": null,
            "object_position": null,
            "object_fit": null,
            "grid_auto_columns": null,
            "margin": null,
            "display": null,
            "left": null
          }
        },
        "1ef600f9c80447f3b24aa291bfdd448b": {
          "model_module": "@jupyter-widgets/controls",
          "model_name": "FloatProgressModel",
          "state": {
            "_view_name": "ProgressView",
            "style": "IPY_MODEL_8de9b56bc3564122be4ecc8f27bbe8f5",
            "_dom_classes": [],
            "description": "",
            "_model_name": "FloatProgressModel",
            "bar_style": "info",
            "max": 1,
            "_view_module": "@jupyter-widgets/controls",
            "_model_module_version": "1.5.0",
            "value": 1,
            "_view_count": null,
            "_view_module_version": "1.5.0",
            "orientation": "horizontal",
            "min": 0,
            "description_tooltip": null,
            "_model_module": "@jupyter-widgets/controls",
            "layout": "IPY_MODEL_1f6367a796e14e5d81c67a1e99004d94"
          }
        },
        "09b9a7a5e5ef441696f4f9934bed36cf": {
          "model_module": "@jupyter-widgets/controls",
          "model_name": "HTMLModel",
          "state": {
            "_view_name": "HTMLView",
            "style": "IPY_MODEL_69412fece4f84a2f826b5ceb2c4ea435",
            "_dom_classes": [],
            "description": "",
            "_model_name": "HTMLModel",
            "placeholder": "​",
            "_view_module": "@jupyter-widgets/controls",
            "_model_module_version": "1.5.0",
            "value": " 170500096/? [00:40&lt;00:00, 8368522.51it/s]",
            "_view_count": null,
            "_view_module_version": "1.5.0",
            "description_tooltip": null,
            "_model_module": "@jupyter-widgets/controls",
            "layout": "IPY_MODEL_1823a72b6ab14a6b95f79404e9587a37"
          }
        },
        "8de9b56bc3564122be4ecc8f27bbe8f5": {
          "model_module": "@jupyter-widgets/controls",
          "model_name": "ProgressStyleModel",
          "state": {
            "_view_name": "StyleView",
            "_model_name": "ProgressStyleModel",
            "description_width": "initial",
            "_view_module": "@jupyter-widgets/base",
            "_model_module_version": "1.5.0",
            "_view_count": null,
            "_view_module_version": "1.2.0",
            "bar_color": null,
            "_model_module": "@jupyter-widgets/controls"
          }
        },
        "1f6367a796e14e5d81c67a1e99004d94": {
          "model_module": "@jupyter-widgets/base",
          "model_name": "LayoutModel",
          "state": {
            "_view_name": "LayoutView",
            "grid_template_rows": null,
            "right": null,
            "justify_content": null,
            "_view_module": "@jupyter-widgets/base",
            "overflow": null,
            "_model_module_version": "1.2.0",
            "_view_count": null,
            "flex_flow": null,
            "width": null,
            "min_width": null,
            "border": null,
            "align_items": null,
            "bottom": null,
            "_model_module": "@jupyter-widgets/base",
            "top": null,
            "grid_column": null,
            "overflow_y": null,
            "overflow_x": null,
            "grid_auto_flow": null,
            "grid_area": null,
            "grid_template_columns": null,
            "flex": null,
            "_model_name": "LayoutModel",
            "justify_items": null,
            "grid_row": null,
            "max_height": null,
            "align_content": null,
            "visibility": null,
            "align_self": null,
            "height": null,
            "min_height": null,
            "padding": null,
            "grid_auto_rows": null,
            "grid_gap": null,
            "max_width": null,
            "order": null,
            "_view_module_version": "1.2.0",
            "grid_template_areas": null,
            "object_position": null,
            "object_fit": null,
            "grid_auto_columns": null,
            "margin": null,
            "display": null,
            "left": null
          }
        },
        "69412fece4f84a2f826b5ceb2c4ea435": {
          "model_module": "@jupyter-widgets/controls",
          "model_name": "DescriptionStyleModel",
          "state": {
            "_view_name": "StyleView",
            "_model_name": "DescriptionStyleModel",
            "description_width": "",
            "_view_module": "@jupyter-widgets/base",
            "_model_module_version": "1.5.0",
            "_view_count": null,
            "_view_module_version": "1.2.0",
            "_model_module": "@jupyter-widgets/controls"
          }
        },
        "1823a72b6ab14a6b95f79404e9587a37": {
          "model_module": "@jupyter-widgets/base",
          "model_name": "LayoutModel",
          "state": {
            "_view_name": "LayoutView",
            "grid_template_rows": null,
            "right": null,
            "justify_content": null,
            "_view_module": "@jupyter-widgets/base",
            "overflow": null,
            "_model_module_version": "1.2.0",
            "_view_count": null,
            "flex_flow": null,
            "width": null,
            "min_width": null,
            "border": null,
            "align_items": null,
            "bottom": null,
            "_model_module": "@jupyter-widgets/base",
            "top": null,
            "grid_column": null,
            "overflow_y": null,
            "overflow_x": null,
            "grid_auto_flow": null,
            "grid_area": null,
            "grid_template_columns": null,
            "flex": null,
            "_model_name": "LayoutModel",
            "justify_items": null,
            "grid_row": null,
            "max_height": null,
            "align_content": null,
            "visibility": null,
            "align_self": null,
            "height": null,
            "min_height": null,
            "padding": null,
            "grid_auto_rows": null,
            "grid_gap": null,
            "max_width": null,
            "order": null,
            "_view_module_version": "1.2.0",
            "grid_template_areas": null,
            "object_position": null,
            "object_fit": null,
            "grid_auto_columns": null,
            "margin": null,
            "display": null,
            "left": null
          }
        }
      }
    }
  },
  "cells": [
    {
      "cell_type": "markdown",
      "metadata": {
        "id": "FoB2YD5tJ1ps"
      },
      "source": [
        "-----\n",
        "\n",
        "# Import"
      ]
    },
    {
      "cell_type": "code",
      "metadata": {
        "id": "AJ68tgejI39t"
      },
      "source": [
        "import os\n",
        "import random\n",
        "import numpy as np\n",
        "import torch\n",
        "import torch.nn as nn\n",
        "import torch.optim as optim\n",
        "import torchvision.transforms as transforms\n",
        "import torchvision\n",
        "import torch.nn.functional as F\n",
        "\n",
        "from torchsummary import summary\n",
        "\n",
        "\n",
        "\n",
        "from torch.utils.data import DataLoader, SubsetRandomSampler\n",
        "from torch.nn import CrossEntropyLoss\n",
        "\n",
        "import cv2\n",
        "import numpy as np\n",
        "import matplotlib.pyplot as plt\n",
        "\n",
        "from torch.utils.data import DataLoader, SubsetRandomSampler\n",
        "from torch.nn import CrossEntropyLoss\n",
        "from torchvision.datasets import CIFAR10"
      ],
      "execution_count": 1,
      "outputs": []
    },
    {
      "cell_type": "markdown",
      "metadata": {
        "id": "3_HZUMe1J4tX"
      },
      "source": [
        "-----\n",
        "\n",
        "# Load and split data"
      ]
    },
    {
      "cell_type": "code",
      "metadata": {
        "colab": {
          "base_uri": "https://localhost:8080/",
          "height": 100,
          "referenced_widgets": [
            "e263667ffe3c49e6a35a1f06d4261879",
            "4a004b8afea642e1998bb68e9d36be1d",
            "1ef600f9c80447f3b24aa291bfdd448b",
            "09b9a7a5e5ef441696f4f9934bed36cf",
            "8de9b56bc3564122be4ecc8f27bbe8f5",
            "1f6367a796e14e5d81c67a1e99004d94",
            "69412fece4f84a2f826b5ceb2c4ea435",
            "1823a72b6ab14a6b95f79404e9587a37"
          ]
        },
        "id": "p3IEUWtLJT69",
        "outputId": "2bc13f87-8608-4cef-e617-4af76ff62a61"
      },
      "source": [
        "transform = transforms.Compose(\n",
        "    [transforms.ToTensor(),\n",
        "     transforms.Normalize((0.5, 0.5, 0.5), (0.5, 0.5, 0.5))])\n",
        "\n",
        "train_dataset = torchvision.datasets.CIFAR10(root='./data', train=True,\n",
        "                                        download=True, transform=transform)\n",
        "\n",
        "test_dataset = torchvision.datasets.CIFAR10(root='./data', train=False,\n",
        "                                       download=True, transform=transform)\n",
        "\n",
        "\n",
        "classes = ('plane', 'car', 'bird', 'cat', 'deer', 'dog', 'frog', 'horse', 'ship', 'truck')"
      ],
      "execution_count": 2,
      "outputs": [
        {
          "output_type": "stream",
          "text": [
            "Downloading https://www.cs.toronto.edu/~kriz/cifar-10-python.tar.gz to ./data/cifar-10-python.tar.gz\n"
          ],
          "name": "stdout"
        },
        {
          "output_type": "display_data",
          "data": {
            "application/vnd.jupyter.widget-view+json": {
              "model_id": "e263667ffe3c49e6a35a1f06d4261879",
              "version_minor": 0,
              "version_major": 2
            },
            "text/plain": [
              "HBox(children=(FloatProgress(value=1.0, bar_style='info', max=1.0), HTML(value='')))"
            ]
          },
          "metadata": {
            "tags": []
          }
        },
        {
          "output_type": "stream",
          "text": [
            "Extracting ./data/cifar-10-python.tar.gz to ./data\n",
            "Files already downloaded and verified\n"
          ],
          "name": "stdout"
        }
      ]
    },
    {
      "cell_type": "code",
      "metadata": {
        "id": "1Kit1D74JWNj"
      },
      "source": [
        "validation_ratio=0.1\n",
        "random_seed= 17\n",
        "\n",
        "num_train = len(train_dataset)\n",
        "indices = list(range(num_train))\n",
        "split = int(np.floor(validation_ratio * num_train))\n",
        "\n",
        "np.random.seed(random_seed)\n",
        "np.random.shuffle(indices)\n",
        "\n",
        "train_idx, valid_idx = indices[split:], indices[:split]\n",
        "train_sampler = SubsetRandomSampler(train_idx)\n",
        "valid_sampler = SubsetRandomSampler(valid_idx)\n",
        "\n",
        "trainloader = DataLoader(train_dataset, batch_size=4,\n",
        "                                          sampler=train_sampler, num_workers=2)\n",
        "validloader = DataLoader(train_dataset, batch_size=4,\n",
        "                                          sampler=valid_sampler, num_workers=2)\n",
        "testloader = DataLoader(test_dataset, batch_size=4,\n",
        "                                         shuffle=False, num_workers=2)\n",
        "\n",
        "# week 9 에서는 batch_size = 1000, num_workers = int(cpu_count() / 2)"
      ],
      "execution_count": 3,
      "outputs": []
    },
    {
      "cell_type": "code",
      "metadata": {
        "colab": {
          "base_uri": "https://localhost:8080/"
        },
        "id": "QChd-LawJYqF",
        "outputId": "fc98f9e3-2f7f-4af8-9c3f-bdbdd16f37ee"
      },
      "source": [
        "print(\"train set : \",len(train_sampler))\n",
        "print(\"validation set : \",len(valid_sampler))\n",
        "print(\"test set : \",len(test_dataset))"
      ],
      "execution_count": 4,
      "outputs": [
        {
          "output_type": "stream",
          "text": [
            "train set :  45000\n",
            "validation set :  5000\n",
            "test set :  10000\n"
          ],
          "name": "stdout"
        }
      ]
    },
    {
      "cell_type": "markdown",
      "metadata": {
        "id": "D9JcU3VbJtfF"
      },
      "source": [
        "-----\n",
        "\n",
        "# Make module\n",
        "\n"
      ]
    },
    {
      "cell_type": "code",
      "metadata": {
        "id": "Rx5bfuolJvG-"
      },
      "source": [
        "device = torch.device('cuda') if torch.cuda.is_available() else torch.device('cpu')"
      ],
      "execution_count": 5,
      "outputs": []
    },
    {
      "cell_type": "code",
      "metadata": {
        "id": "sm6I9pc3QLzJ"
      },
      "source": [
        "class ResidualBlock(nn.Module):\n",
        "    def __init__(self, in_channels, out_channels, stride=1):\n",
        "        super(ResidualBlock, self).__init__()\n",
        "        self.conv1 = nn.Conv2d(in_channels, out_channels, kernel_size=3, stride=stride, padding=1, bias=False)\n",
        "        self.bn1 = nn.BatchNorm2d(out_channels)\n",
        "        self.relu = nn.ReLU(inplace=True)\n",
        "\n",
        "        self.conv2 = nn.Conv2d(out_channels, out_channels, kernel_size=3,stride=stride, padding=1, bias=False)\n",
        "        self.bn2 = nn.BatchNorm2d(out_channels)\n",
        "        self.stride = stride\n",
        "\n",
        "        # residualblock has two convolutional layer.\n",
        "\n",
        "        self.identity = nn.Sequential()\n",
        "        if stride != 1 or in_channels != out_channels:\n",
        "          self.identity = nn.Sequential(\n",
        "              nn.Conv2d(in_channels, out_channels, kernel_size=1, stride=stride, bias=False),\n",
        "              nn.BatchNorm2d(out_channels)\n",
        "          )\n",
        "\n",
        "\n",
        "    def forward(self, x):\n",
        "\n",
        "        out = self.conv1(x)\n",
        "        out = self.bn1(out)\n",
        "        out = self.relu(out)\n",
        "\n",
        "        out = self.conv2(out)\n",
        "        out = self.bn2(out)\n",
        "\n",
        "        return self.relu(out + self.identity(x))\n",
        "\n",
        "# I made residualblock with lecture contents. but i realized, in H(x) = F(x)+ x , they are different tensor. so i added code which matching tensor .\n",
        "\n",
        "class ResidualBlock2(nn.Module):\n",
        "    def __init__(self, in_channels, out_channels, stride=1):\n",
        "        super().__init__()\n",
        "        self.residualfunc = nn.Sequential(\n",
        "            nn.Conv2d(in_channels, out_channels, kernel_size=3, stride=stride, padding=1, bias=False),\n",
        "            nn.BatchNorm2d(out_channels),\n",
        "            nn.ReLU(inplace=True),\n",
        "\n",
        "            nn.Conv2d(out_channels, out_channels, kernel_size=3, padding=1, bias=False),\n",
        "            nn.BatchNorm2d(out_channels)\n",
        "        )\n",
        "\n",
        "        # residualblock has two convolutional layer.\n",
        "\n",
        "        self.identity = nn.Sequential()\n",
        "        if stride != 1 or in_channels != out_channels:\n",
        "          self.identity = nn.Sequential(\n",
        "              nn.Conv2d(in_channels, out_channels, kernel_size=1, stride=stride, bias=False),\n",
        "              nn.BatchNorm2d(out_channels)\n",
        "          )\n",
        "\n",
        "        # F(x) + x(identity) before activate fucntion, should same tensor F(x) and identity \n",
        "\n",
        "    def forward(self, x):\n",
        "        return nn.ReLU(inplace=True)(self.residualfunc(x) + self.identity(x))"
      ],
      "execution_count": 6,
      "outputs": []
    },
    {
      "cell_type": "code",
      "metadata": {
        "id": "RtEiBsIzeG1O"
      },
      "source": [
        "class ResNet(nn.Module):\n",
        "\n",
        "    def __init__(self, block, num_block, num_classes=10):\n",
        "        super(ResNet, self).__init__() \n",
        "\n",
        "        self.in_channels = 64\n",
        "\n",
        "        self.conv1x = nn.Sequential(\n",
        "            nn.Conv2d(3, 64, kernel_size=3, padding=1, bias=False), \n",
        "            nn.BatchNorm2d(64),                                     # out_channels = 64.\n",
        "            nn.ReLU(inplace=True))\n",
        "        \n",
        "        self.conv2x = self.get_layers(block, 64, num_block[0], 1)   # 3*3, 64\n",
        "        self.conv3x = self.get_layers(block, 128, num_block[1], 2)  # 3*3, 128\n",
        "        self.conv4x = self.get_layers(block, 256, num_block[2], 2)  # 3*3, 256\n",
        "        self.conv5x = self.get_layers(block, 512, num_block[3], 2)  # 3*3, 512\n",
        "        self.avg_pool = nn.AdaptiveAvgPool2d((1, 1))\n",
        "        self.fc = nn.Linear(512, num_classes)\n",
        "\n",
        "    def get_layers(self, block, out_channels, num_blocks, stride):\n",
        "      \n",
        "        strides = [stride] + [1] * (num_blocks - 1)\n",
        "        layers = []\n",
        "        for stride in strides:\n",
        "            layers.append(block(self.in_channels, out_channels, stride))\n",
        "            self.in_channels = out_channels\n",
        "\n",
        "        return nn.Sequential(*layers)\n",
        "\n",
        "    def forward(self, x):\n",
        "\n",
        "        output = self.conv1x(x)\n",
        "\n",
        "        output = self.conv2x(output)\n",
        "        output = self.conv3x(output)\n",
        "        output = self.conv4x(output)\n",
        "        output = self.conv5x(output)\n",
        "        output = self.avg_pool(output)\n",
        "\n",
        "        output = output.view(output.size(0), -1)\n",
        "\n",
        "        output = self.fc(output)\n",
        "\n",
        "        return output"
      ],
      "execution_count": 7,
      "outputs": []
    },
    {
      "cell_type": "code",
      "metadata": {
        "colab": {
          "base_uri": "https://localhost:8080/"
        },
        "id": "l69G9jnu6oMv",
        "outputId": "ed028971-a4d9-43a6-8ad5-7dddc9a9970c"
      },
      "source": [
        "#model = ResNet(ResidualBlock, [2, 2, 2, 2]).to('cuda')\n",
        "\n",
        "model = ResNet(ResidualBlock2, [2, 2, 2, 2]).to('cuda') \n",
        "# use ResidualBlock2 block, and [2, 2, 2, 2] => resnet-18 ( each conv2_x~conv5_x are *2)\n",
        "\n",
        "summary(model, (3,32,32))"
      ],
      "execution_count": 8,
      "outputs": [
        {
          "output_type": "stream",
          "text": [
            "----------------------------------------------------------------\n",
            "        Layer (type)               Output Shape         Param #\n",
            "================================================================\n",
            "            Conv2d-1           [-1, 64, 32, 32]           1,728\n",
            "       BatchNorm2d-2           [-1, 64, 32, 32]             128\n",
            "              ReLU-3           [-1, 64, 32, 32]               0\n",
            "            Conv2d-4           [-1, 64, 32, 32]          36,864\n",
            "       BatchNorm2d-5           [-1, 64, 32, 32]             128\n",
            "              ReLU-6           [-1, 64, 32, 32]               0\n",
            "            Conv2d-7           [-1, 64, 32, 32]          36,864\n",
            "       BatchNorm2d-8           [-1, 64, 32, 32]             128\n",
            "    ResidualBlock2-9           [-1, 64, 32, 32]               0\n",
            "           Conv2d-10           [-1, 64, 32, 32]          36,864\n",
            "      BatchNorm2d-11           [-1, 64, 32, 32]             128\n",
            "             ReLU-12           [-1, 64, 32, 32]               0\n",
            "           Conv2d-13           [-1, 64, 32, 32]          36,864\n",
            "      BatchNorm2d-14           [-1, 64, 32, 32]             128\n",
            "   ResidualBlock2-15           [-1, 64, 32, 32]               0\n",
            "           Conv2d-16          [-1, 128, 16, 16]          73,728\n",
            "      BatchNorm2d-17          [-1, 128, 16, 16]             256\n",
            "             ReLU-18          [-1, 128, 16, 16]               0\n",
            "           Conv2d-19          [-1, 128, 16, 16]         147,456\n",
            "      BatchNorm2d-20          [-1, 128, 16, 16]             256\n",
            "           Conv2d-21          [-1, 128, 16, 16]           8,192\n",
            "      BatchNorm2d-22          [-1, 128, 16, 16]             256\n",
            "   ResidualBlock2-23          [-1, 128, 16, 16]               0\n",
            "           Conv2d-24          [-1, 128, 16, 16]         147,456\n",
            "      BatchNorm2d-25          [-1, 128, 16, 16]             256\n",
            "             ReLU-26          [-1, 128, 16, 16]               0\n",
            "           Conv2d-27          [-1, 128, 16, 16]         147,456\n",
            "      BatchNorm2d-28          [-1, 128, 16, 16]             256\n",
            "   ResidualBlock2-29          [-1, 128, 16, 16]               0\n",
            "           Conv2d-30            [-1, 256, 8, 8]         294,912\n",
            "      BatchNorm2d-31            [-1, 256, 8, 8]             512\n",
            "             ReLU-32            [-1, 256, 8, 8]               0\n",
            "           Conv2d-33            [-1, 256, 8, 8]         589,824\n",
            "      BatchNorm2d-34            [-1, 256, 8, 8]             512\n",
            "           Conv2d-35            [-1, 256, 8, 8]          32,768\n",
            "      BatchNorm2d-36            [-1, 256, 8, 8]             512\n",
            "   ResidualBlock2-37            [-1, 256, 8, 8]               0\n",
            "           Conv2d-38            [-1, 256, 8, 8]         589,824\n",
            "      BatchNorm2d-39            [-1, 256, 8, 8]             512\n",
            "             ReLU-40            [-1, 256, 8, 8]               0\n",
            "           Conv2d-41            [-1, 256, 8, 8]         589,824\n",
            "      BatchNorm2d-42            [-1, 256, 8, 8]             512\n",
            "   ResidualBlock2-43            [-1, 256, 8, 8]               0\n",
            "           Conv2d-44            [-1, 512, 4, 4]       1,179,648\n",
            "      BatchNorm2d-45            [-1, 512, 4, 4]           1,024\n",
            "             ReLU-46            [-1, 512, 4, 4]               0\n",
            "           Conv2d-47            [-1, 512, 4, 4]       2,359,296\n",
            "      BatchNorm2d-48            [-1, 512, 4, 4]           1,024\n",
            "           Conv2d-49            [-1, 512, 4, 4]         131,072\n",
            "      BatchNorm2d-50            [-1, 512, 4, 4]           1,024\n",
            "   ResidualBlock2-51            [-1, 512, 4, 4]               0\n",
            "           Conv2d-52            [-1, 512, 4, 4]       2,359,296\n",
            "      BatchNorm2d-53            [-1, 512, 4, 4]           1,024\n",
            "             ReLU-54            [-1, 512, 4, 4]               0\n",
            "           Conv2d-55            [-1, 512, 4, 4]       2,359,296\n",
            "      BatchNorm2d-56            [-1, 512, 4, 4]           1,024\n",
            "   ResidualBlock2-57            [-1, 512, 4, 4]               0\n",
            "AdaptiveAvgPool2d-58            [-1, 512, 1, 1]               0\n",
            "           Linear-59                   [-1, 10]           5,130\n",
            "================================================================\n",
            "Total params: 11,173,962\n",
            "Trainable params: 11,173,962\n",
            "Non-trainable params: 0\n",
            "----------------------------------------------------------------\n",
            "Input size (MB): 0.01\n",
            "Forward/backward pass size (MB): 13.63\n",
            "Params size (MB): 42.63\n",
            "Estimated Total Size (MB): 56.27\n",
            "----------------------------------------------------------------\n"
          ],
          "name": "stdout"
        }
      ]
    },
    {
      "cell_type": "markdown",
      "metadata": {
        "id": "eTl3XxtoNoN_"
      },
      "source": [
        "----\n",
        "# Training model"
      ]
    },
    {
      "cell_type": "code",
      "metadata": {
        "id": "xFX2ok3267Ha"
      },
      "source": [
        "criterion = CrossEntropyLoss()\n",
        "optimizer = optim.Adam(params=model.parameters(), lr=0.1, weight_decay=0.0001)\n",
        "scheduler = optim.lr_scheduler.ReduceLROnPlateau(optimizer=optimizer, patience=3, verbose=True)"
      ],
      "execution_count": 9,
      "outputs": []
    },
    {
      "cell_type": "code",
      "metadata": {
        "id": "Z5Rjp0tYN0yx"
      },
      "source": [
        "train_total = len(train_idx)\n",
        "valid_total = len(valid_idx)\n",
        "\n",
        "train_batches = len(trainloader)\n",
        "valid_batches = len(validloader)\n",
        "\n",
        "# Variables for lr scheduling and early stopping\n",
        "best_valid_loss = 1024    # Any large number will suffice\n",
        "patience = 0    # Bad epoch counter"
      ],
      "execution_count": 10,
      "outputs": []
    },
    {
      "cell_type": "code",
      "metadata": {
        "colab": {
          "base_uri": "https://localhost:8080/",
          "height": 895
        },
        "id": "qQFv1xXUOSpQ",
        "outputId": "aebb1b02-a8d0-46ae-ecf4-239269845e6c"
      },
      "source": [
        "for epoch in range(50):\n",
        "    # Train\n",
        "    model.train()\n",
        "    \n",
        "    train_loss = 0\n",
        "    train_correct = 0\n",
        "    \n",
        "    for x, y in trainloader:\n",
        "        x = x.to(device)\n",
        "        y = y.to(device)\n",
        "        outputs = model(x)\n",
        "        loss = criterion(outputs, y)\n",
        "        \n",
        "        optimizer.zero_grad()\n",
        "        \n",
        "        loss.backward()\n",
        "        optimizer.step()\n",
        "        \n",
        "        train_loss += loss.item()\n",
        "        _, predicted = outputs.max(1)\n",
        "        train_correct += predicted.eq(y).sum().item()\n",
        "        \n",
        "    train_loss = train_loss / train_batches\n",
        "    train_acc = train_correct / train_total\n",
        "    \n",
        "    # Validate\n",
        "    model.eval()\n",
        "    \n",
        "    valid_loss = 0\n",
        "    valid_correct = 0\n",
        "    \n",
        "    with torch.no_grad():\n",
        "        for x, y in validloader:\n",
        "            x = x.to(device)\n",
        "            y = y.to(device)\n",
        "            outputs = model(x)\n",
        "            loss = criterion(outputs, y)\n",
        "            \n",
        "            valid_loss += loss.item()\n",
        "            _, predicted = outputs.max(1)\n",
        "            valid_correct += predicted.eq(y).sum().item()\n",
        "            \n",
        "    valid_loss = valid_loss / valid_batches\n",
        "    valid_acc = valid_correct / valid_total\n",
        "    \n",
        "    if best_valid_loss > valid_loss:\n",
        "        torch.save(model.state_dict(), './best_resnet.pth')\n",
        "        best_valid_loss = valid_loss\n",
        "        patience = 0\n",
        "        \n",
        "    print('[%2d] TRAIN loss: %.3f, acc: %.3f, lr: %f .... VALID loss: %.3F, acc: %.3f, best_loss: %.3f .... PATIENCE %d' \n",
        "          % (epoch+1, train_loss, train_acc, optimizer.param_groups[0]['lr'], valid_loss, valid_acc, best_valid_loss, patience))\n",
        "    \n",
        "    scheduler.step(metrics=valid_loss)\n",
        "    \n",
        "    if patience == 5:\n",
        "        break\n",
        "        \n",
        "    patience += 1"
      ],
      "execution_count": 11,
      "outputs": [
        {
          "output_type": "stream",
          "text": [
            "[ 1] TRAIN loss: 2.385, acc: 0.100, lr: 0.100000 .... VALID loss: 2.336, acc: 0.102, best_loss: 2.336 .... PATIENCE 0\n",
            "[ 2] TRAIN loss: 2.398, acc: 0.101, lr: 0.100000 .... VALID loss: 5.123, acc: 0.102, best_loss: 2.336 .... PATIENCE 1\n",
            "[ 3] TRAIN loss: 2.409, acc: 0.102, lr: 0.100000 .... VALID loss: 18.018, acc: 0.098, best_loss: 2.336 .... PATIENCE 2\n",
            "[ 4] TRAIN loss: 2.409, acc: 0.098, lr: 0.100000 .... VALID loss: 2.522, acc: 0.102, best_loss: 2.336 .... PATIENCE 3\n",
            "[ 5] TRAIN loss: 2.409, acc: 0.102, lr: 0.100000 .... VALID loss: 29.246, acc: 0.062, best_loss: 2.336 .... PATIENCE 4\n",
            "Epoch     5: reducing learning rate of group 0 to 1.0000e-02.\n",
            "[ 6] TRAIN loss: 1.938, acc: 0.259, lr: 0.010000 .... VALID loss: 1.730, acc: 0.320, best_loss: 1.730 .... PATIENCE 0\n",
            "[ 7] TRAIN loss: 1.744, acc: 0.337, lr: 0.010000 .... VALID loss: 1.716, acc: 0.353, best_loss: 1.716 .... PATIENCE 0\n",
            "[ 8] TRAIN loss: 1.646, acc: 0.381, lr: 0.010000 .... VALID loss: 1.604, acc: 0.389, best_loss: 1.604 .... PATIENCE 0\n",
            "[ 9] TRAIN loss: 1.566, acc: 0.419, lr: 0.010000 .... VALID loss: 1.469, acc: 0.451, best_loss: 1.469 .... PATIENCE 0\n",
            "[10] TRAIN loss: 1.516, acc: 0.442, lr: 0.010000 .... VALID loss: 1.609, acc: 0.411, best_loss: 1.469 .... PATIENCE 1\n",
            "[11] TRAIN loss: 1.491, acc: 0.455, lr: 0.010000 .... VALID loss: 1.414, acc: 0.469, best_loss: 1.414 .... PATIENCE 0\n",
            "[12] TRAIN loss: 1.460, acc: 0.462, lr: 0.010000 .... VALID loss: 1.385, acc: 0.495, best_loss: 1.385 .... PATIENCE 0\n",
            "[13] TRAIN loss: 1.454, acc: 0.465, lr: 0.010000 .... VALID loss: 1.361, acc: 0.510, best_loss: 1.361 .... PATIENCE 0\n",
            "[14] TRAIN loss: 1.439, acc: 0.474, lr: 0.010000 .... VALID loss: 1.396, acc: 0.479, best_loss: 1.361 .... PATIENCE 1\n",
            "[15] TRAIN loss: 1.427, acc: 0.478, lr: 0.010000 .... VALID loss: 2.698, acc: 0.296, best_loss: 1.361 .... PATIENCE 2\n",
            "[16] TRAIN loss: 1.418, acc: 0.486, lr: 0.010000 .... VALID loss: 1.407, acc: 0.490, best_loss: 1.361 .... PATIENCE 3\n",
            "[17] TRAIN loss: 1.409, acc: 0.488, lr: 0.010000 .... VALID loss: 1.439, acc: 0.470, best_loss: 1.361 .... PATIENCE 4\n",
            "Epoch    17: reducing learning rate of group 0 to 1.0000e-03.\n",
            "[18] TRAIN loss: 1.239, acc: 0.553, lr: 0.001000 .... VALID loss: 1.142, acc: 0.599, best_loss: 1.142 .... PATIENCE 0\n",
            "[19] TRAIN loss: 1.139, acc: 0.593, lr: 0.001000 .... VALID loss: 1.064, acc: 0.626, best_loss: 1.064 .... PATIENCE 0\n",
            "[20] TRAIN loss: 1.049, acc: 0.628, lr: 0.001000 .... VALID loss: 0.980, acc: 0.653, best_loss: 0.980 .... PATIENCE 0\n",
            "[21] TRAIN loss: 0.976, acc: 0.654, lr: 0.001000 .... VALID loss: 0.927, acc: 0.680, best_loss: 0.927 .... PATIENCE 0\n",
            "[22] TRAIN loss: 0.921, acc: 0.674, lr: 0.001000 .... VALID loss: 0.911, acc: 0.676, best_loss: 0.911 .... PATIENCE 0\n",
            "[23] TRAIN loss: 0.875, acc: 0.691, lr: 0.001000 .... VALID loss: 0.861, acc: 0.703, best_loss: 0.861 .... PATIENCE 0\n",
            "[24] TRAIN loss: 0.837, acc: 0.706, lr: 0.001000 .... VALID loss: 0.847, acc: 0.703, best_loss: 0.847 .... PATIENCE 0\n",
            "[25] TRAIN loss: 0.808, acc: 0.718, lr: 0.001000 .... VALID loss: 0.834, acc: 0.711, best_loss: 0.834 .... PATIENCE 0\n",
            "[26] TRAIN loss: 0.781, acc: 0.726, lr: 0.001000 .... VALID loss: 0.838, acc: 0.712, best_loss: 0.834 .... PATIENCE 1\n",
            "[27] TRAIN loss: 0.759, acc: 0.734, lr: 0.001000 .... VALID loss: 0.809, acc: 0.719, best_loss: 0.809 .... PATIENCE 0\n",
            "[28] TRAIN loss: 0.739, acc: 0.741, lr: 0.001000 .... VALID loss: 0.830, acc: 0.714, best_loss: 0.809 .... PATIENCE 1\n",
            "[29] TRAIN loss: 0.719, acc: 0.746, lr: 0.001000 .... VALID loss: 0.791, acc: 0.727, best_loss: 0.791 .... PATIENCE 0\n",
            "[30] TRAIN loss: 0.703, acc: 0.753, lr: 0.001000 .... VALID loss: 0.793, acc: 0.721, best_loss: 0.791 .... PATIENCE 1\n",
            "[31] TRAIN loss: 0.687, acc: 0.759, lr: 0.001000 .... VALID loss: 0.754, acc: 0.739, best_loss: 0.754 .... PATIENCE 0\n",
            "[32] TRAIN loss: 0.675, acc: 0.763, lr: 0.001000 .... VALID loss: 0.772, acc: 0.734, best_loss: 0.754 .... PATIENCE 1\n",
            "[33] TRAIN loss: 0.665, acc: 0.767, lr: 0.001000 .... VALID loss: 0.828, acc: 0.717, best_loss: 0.754 .... PATIENCE 2\n",
            "[34] TRAIN loss: 0.653, acc: 0.772, lr: 0.001000 .... VALID loss: 0.802, acc: 0.722, best_loss: 0.754 .... PATIENCE 3\n",
            "[35] TRAIN loss: 0.647, acc: 0.774, lr: 0.001000 .... VALID loss: 0.784, acc: 0.728, best_loss: 0.754 .... PATIENCE 4\n",
            "Epoch    35: reducing learning rate of group 0 to 1.0000e-04.\n",
            "[36] TRAIN loss: 0.536, acc: 0.814, lr: 0.000100 .... VALID loss: 0.708, acc: 0.760, best_loss: 0.708 .... PATIENCE 0\n"
          ],
          "name": "stdout"
        },
        {
          "output_type": "error",
          "ename": "KeyboardInterrupt",
          "evalue": "ignored",
          "traceback": [
            "\u001b[0;31m---------------------------------------------------------------------------\u001b[0m",
            "\u001b[0;31mKeyboardInterrupt\u001b[0m                         Traceback (most recent call last)",
            "\u001b[0;32m<ipython-input-11-12ab37cd8c03>\u001b[0m in \u001b[0;36m<module>\u001b[0;34m()\u001b[0m\n\u001b[1;32m     17\u001b[0m         \u001b[0moptimizer\u001b[0m\u001b[0;34m.\u001b[0m\u001b[0mstep\u001b[0m\u001b[0;34m(\u001b[0m\u001b[0;34m)\u001b[0m\u001b[0;34m\u001b[0m\u001b[0;34m\u001b[0m\u001b[0m\n\u001b[1;32m     18\u001b[0m \u001b[0;34m\u001b[0m\u001b[0m\n\u001b[0;32m---> 19\u001b[0;31m         \u001b[0mtrain_loss\u001b[0m \u001b[0;34m+=\u001b[0m \u001b[0mloss\u001b[0m\u001b[0;34m.\u001b[0m\u001b[0mitem\u001b[0m\u001b[0;34m(\u001b[0m\u001b[0;34m)\u001b[0m\u001b[0;34m\u001b[0m\u001b[0;34m\u001b[0m\u001b[0m\n\u001b[0m\u001b[1;32m     20\u001b[0m         \u001b[0m_\u001b[0m\u001b[0;34m,\u001b[0m \u001b[0mpredicted\u001b[0m \u001b[0;34m=\u001b[0m \u001b[0moutputs\u001b[0m\u001b[0;34m.\u001b[0m\u001b[0mmax\u001b[0m\u001b[0;34m(\u001b[0m\u001b[0;36m1\u001b[0m\u001b[0;34m)\u001b[0m\u001b[0;34m\u001b[0m\u001b[0;34m\u001b[0m\u001b[0m\n\u001b[1;32m     21\u001b[0m         \u001b[0mtrain_correct\u001b[0m \u001b[0;34m+=\u001b[0m \u001b[0mpredicted\u001b[0m\u001b[0;34m.\u001b[0m\u001b[0meq\u001b[0m\u001b[0;34m(\u001b[0m\u001b[0my\u001b[0m\u001b[0;34m)\u001b[0m\u001b[0;34m.\u001b[0m\u001b[0msum\u001b[0m\u001b[0;34m(\u001b[0m\u001b[0;34m)\u001b[0m\u001b[0;34m.\u001b[0m\u001b[0mitem\u001b[0m\u001b[0;34m(\u001b[0m\u001b[0;34m)\u001b[0m\u001b[0;34m\u001b[0m\u001b[0;34m\u001b[0m\u001b[0m\n",
            "\u001b[0;31mKeyboardInterrupt\u001b[0m: "
          ]
        }
      ]
    },
    {
      "cell_type": "markdown",
      "metadata": {
        "id": "3J34kOmJPgye"
      },
      "source": [
        "------\n",
        "\n",
        "# Test model"
      ]
    },
    {
      "cell_type": "code",
      "metadata": {
        "id": "PxehgG-wOwFI",
        "colab": {
          "base_uri": "https://localhost:8080/"
        },
        "outputId": "2f65daaf-ba44-4e01-ef41-f656b2a33e08"
      },
      "source": [
        "loaded = ResNet(ResidualBlock2, [2, 2, 2, 2]).to(device)\n",
        "loaded.load_state_dict(torch.load('./best_resnet.pth'))"
      ],
      "execution_count": 12,
      "outputs": [
        {
          "output_type": "execute_result",
          "data": {
            "text/plain": [
              "<All keys matched successfully>"
            ]
          },
          "metadata": {
            "tags": []
          },
          "execution_count": 12
        }
      ]
    },
    {
      "cell_type": "code",
      "metadata": {
        "id": "ki-hyvvdPnBd",
        "colab": {
          "base_uri": "https://localhost:8080/"
        },
        "outputId": "16f268ee-959b-474d-a39f-86bbf2afba1f"
      },
      "source": [
        "# Test\n",
        "loaded.eval()\n",
        "\n",
        "test_loss = 0\n",
        "test_correct = 0\n",
        "\n",
        "with torch.no_grad():\n",
        "    for i, (x, y) in enumerate(testloader):\n",
        "        x = x.to(device)\n",
        "        y = y.to(device)\n",
        "        outputs = loaded(x)\n",
        "        loss = criterion(outputs, y)\n",
        "        \n",
        "        test_loss += loss.item()\n",
        "        _, predicted = outputs.max(1)\n",
        "        test_correct += predicted.eq(y).sum().item()\n",
        "        \n",
        "        if i == 0:\n",
        "            test_preds = predicted\n",
        "        else:\n",
        "            test_preds = torch.cat((test_preds, predicted), dim=0)\n",
        "            \n",
        "test_preds = test_preds.cpu()\n",
        "\n",
        "print('TEST loss: %.4f, acc: %.4f' % (test_loss/len(testloader), test_correct/len(test_dataset)))"
      ],
      "execution_count": 13,
      "outputs": [
        {
          "output_type": "stream",
          "text": [
            "TEST loss: 0.6909, acc: 0.7606\n"
          ],
          "name": "stdout"
        }
      ]
    },
    {
      "cell_type": "markdown",
      "metadata": {
        "id": "-l_qiZ8Z21Y5"
      },
      "source": [
        "my test acc is 55% -> 76%"
      ]
    },
    {
      "cell_type": "markdown",
      "metadata": {
        "id": "4PvJxWpePkBW"
      },
      "source": [
        ""
      ]
    },
    {
      "cell_type": "code",
      "metadata": {
        "id": "rAv_ns24dpon"
      },
      "source": [
        ""
      ],
      "execution_count": null,
      "outputs": []
    }
  ]
}