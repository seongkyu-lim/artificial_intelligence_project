{
  "nbformat": 4,
  "nbformat_minor": 0,
  "metadata": {
    "colab": {
      "name": "예제로_배우는_pytorch.ipynb",
      "provenance": []
    },
    "kernelspec": {
      "name": "python3",
      "display_name": "Python 3"
    },
    "accelerator": "GPU"
  },
  "cells": [
    {
      "cell_type": "code",
      "metadata": {
        "id": "tOITP4grGcW1",
        "outputId": "4e2997fe-8325-44ae-b977-16e00ef9094e",
        "colab": {
          "base_uri": "https://localhost:8080/",
          "height": 442
        }
      },
      "source": [
        "import numpy as np\n",
        "\n",
        "N, D_in, H, D_out = 64, 1000, 100, 10\n",
        "\n",
        "x = np.random.randn(N, D_in)\n",
        "y = np.random.randn(N, D_out)\n",
        "\n",
        "w1 = np.random.randn(D_in, H)\n",
        "w2 = np.random.randn(H, D_out)\n",
        "\n",
        "learning_rate = 1e-6\n",
        "for t in range(500):\n",
        "\n",
        "  h = x.dot(w1)\n",
        "  h_relu = np.maximum(h,0)\n",
        "  y_pred = h_relu.dot(w2)\n",
        "\n",
        "  loss = np.square(y_pred - y).sum()\n",
        "  if t%20 == 0 :\n",
        "    print(t, loss)\n",
        "\n",
        "  grad_y_pred = 2.0 * (y_pred - y)\n",
        "  grad_w2 = h_relu.T.dot(grad_y_pred)\n",
        "  grad_h_relu = grad_y_pred.dot(w2.T)\n",
        "  grad_h = grad_h_relu.copy()\n",
        "  grad_h[h < 0] = 0\n",
        "  grad_w1 = x.T.dot(grad_h)\n",
        "\n",
        "  w1 -= learning_rate*grad_w1\n",
        "  w2 -= learning_rate*grad_w2"
      ],
      "execution_count": 5,
      "outputs": [
        {
          "output_type": "stream",
          "text": [
            "0 28681977.68861396\n",
            "20 201051.52962570245\n",
            "40 24530.447714442533\n",
            "60 4843.878378056897\n",
            "80 1216.9217172426588\n",
            "100 353.9219164391362\n",
            "120 113.04810087185648\n",
            "140 38.264993856304\n",
            "160 13.44598927859824\n",
            "180 4.844902630420139\n",
            "200 1.7765039676626455\n",
            "220 0.6597042603690644\n",
            "240 0.24730106051860462\n",
            "260 0.09337615558246881\n",
            "280 0.0354560213609587\n",
            "300 0.013523531858849521\n",
            "320 0.005176573018296956\n",
            "340 0.0019873155538535467\n",
            "360 0.0007647753224652684\n",
            "380 0.0002948949533178057\n",
            "400 0.0001138954351602402\n",
            "420 4.405050443786634e-05\n",
            "440 1.7056576124227512e-05\n",
            "460 6.6109556211657675e-06\n",
            "480 2.564514363099933e-06\n"
          ],
          "name": "stdout"
        }
      ]
    },
    {
      "cell_type": "markdown",
      "metadata": {
        "id": "zkAkAa1unnDc"
      },
      "source": [
        "---\n",
        "\n",
        "-> numpy를 이용한 fully_connected nn 구현</br>\n",
        "-> forward, backward 직접구현\n",
        "\n",
        "---\n",
        "\n"
      ]
    },
    {
      "cell_type": "code",
      "metadata": {
        "id": "quU4eIEmm7-e",
        "outputId": "2f469d0a-0212-491e-a321-34fd765426f8",
        "colab": {
          "base_uri": "https://localhost:8080/",
          "height": 102
        }
      },
      "source": [
        "import torch\n",
        "\n",
        "dtype = torch.float\n",
        "device = torch.device(\"cpu\")\n",
        "device = torch.device(\"cuda:0\")\n",
        "\n",
        "N, D_in, H, D_out = 64, 1000, 100, 10\n",
        "\n",
        "x = torch.randn(N, D_in, device=device, dtype=dtype)\n",
        "y = torch.randn(N, D_out, device=device, dtype=dtype)\n",
        "\n",
        "w1 = torch.randn(D_in, H, device=device, dtype=dtype)\n",
        "w2 = torch.randn(H, D_out, device=device, dtype=dtype)\n",
        "\n",
        "learning_rate = 1e-6\n",
        "for t in range(500):\n",
        "\n",
        "  h = x.mm(w1)\n",
        "  h_relu = h.clamp(min=0)\n",
        "  y_pred = h_relu.mm(w2)\n",
        "\n",
        "  loss = (y_pred - y).pow(2).sum().item()\n",
        "  if t%100 == 99 :\n",
        "    print(t, loss)\n",
        "\n",
        "\n",
        "  grad_y_pred = 2.0 * (y_pred - y)\n",
        "  grad_w2 = h_relu.t().mm(grad_y_pred)\n",
        "  grad_h_relu = grad_y_pred.mm(w2.t())\n",
        "  grad_h = grad_h_relu.clone()\n",
        "  grad_h[h<0] = 0\n",
        "  grad_w1 = x.t().mm(grad_h)\n",
        "\n",
        "  w1 -= learning_rate * grad_w1\n",
        "  w2 -= learning_rate * grad_w2"
      ],
      "execution_count": 7,
      "outputs": [
        {
          "output_type": "stream",
          "text": [
            "99 517.314453125\n",
            "199 2.6916236877441406\n",
            "299 0.030974093824625015\n",
            "399 0.0007234406075440347\n",
            "499 9.509991650702432e-05\n"
          ],
          "name": "stdout"
        }
      ]
    },
    {
      "cell_type": "markdown",
      "metadata": {
        "id": "qIm81vSvqKm5"
      },
      "source": [
        "\n",
        "---\n",
        "-> pytorch를 이용한 fully_connected nn 구현</br>\n",
        "-> forward, backward 직접구현\n",
        "\n",
        "---\n",
        "\n"
      ]
    },
    {
      "cell_type": "code",
      "metadata": {
        "id": "kzcPLMLIpdOq",
        "outputId": "5ed59bf7-b129-43c7-d755-65698fcc87da",
        "colab": {
          "base_uri": "https://localhost:8080/",
          "height": 102
        }
      },
      "source": [
        "import torch\n",
        "\n",
        "class MyReLU(torch.autograd.Function):\n",
        "\n",
        "  @staticmethod\n",
        "  def forward(ctx, input) : \n",
        "\n",
        "    ctx.save_for_backward(input)\n",
        "    return input.clamp(min=0)\n",
        "\n",
        "  @staticmethod\n",
        "  def backward(ctx, grad_output):\n",
        "\n",
        "    input, = ctx.saved_tensors\n",
        "    grad_input = grad_output.clone()\n",
        "    grad_input[input < 0] = 0\n",
        "    return grad_input\n",
        "\n",
        "dtype = torch.float\n",
        "device = torch.device(\"cpu\")\n",
        "device = torch.device(\"cuda:0\")\n",
        "\n",
        "N, D_in, H, D_out = 64, 1000, 100, 10\n",
        "\n",
        "x = torch.randn(N, D_in, device=device, dtype=dtype)\n",
        "y = torch.randn(N, D_out, device=device, dtype=dtype)\n",
        "\n",
        "w1 = torch.randn(D_in, H, device=device, dtype=dtype, requires_grad=True)\n",
        "w2 = torch.randn(H, D_out, device=device, dtype=dtype, requires_grad=True)\n",
        "\n",
        "learning_rate = 1e-6\n",
        "for t in range(500):\n",
        "\n",
        "  relu = MyReLU.apply\n",
        "\n",
        "  y_pred = relu(x.mm(w1)).mm(w2)\n",
        "\n",
        "  loss = (y_pred - y).pow(2).sum()\n",
        "  if t % 100 == 99 :\n",
        "    print(t, loss.item())\n",
        "\n",
        "\n",
        "  loss.backward()\n",
        "\n",
        "  with torch.no_grad():\n",
        "    w1 -= learning_rate * w1.grad\n",
        "    w2 -= learning_rate * w2.grad\n",
        "    \n",
        "    w1.grad.zero_()\n",
        "    w2.grad.zero_()\n",
        "\n"
      ],
      "execution_count": 8,
      "outputs": [
        {
          "output_type": "stream",
          "text": [
            "99 744.2021484375\n",
            "199 5.368178367614746\n",
            "299 0.06526672095060349\n",
            "399 0.0012079041916877031\n",
            "499 0.00011554277443792671\n"
          ],
          "name": "stdout"
        }
      ]
    },
    {
      "cell_type": "code",
      "metadata": {
        "id": "alT2POYw-CPQ",
        "outputId": "c83e86b4-27ec-473d-8ac9-741b956f23bf",
        "colab": {
          "base_uri": "https://localhost:8080/",
          "height": 102
        }
      },
      "source": [
        ""
      ],
      "execution_count": 4,
      "outputs": [
        {
          "output_type": "stream",
          "text": [
            "99 523.8118286132812\n",
            "199 3.4765267372131348\n",
            "299 0.04136575385928154\n",
            "399 0.0008464562124572694\n",
            "499 9.080549352802336e-05\n"
          ],
          "name": "stdout"
        }
      ]
    },
    {
      "cell_type": "code",
      "metadata": {
        "id": "IqynH6VS-5xx"
      },
      "source": [
        ""
      ],
      "execution_count": null,
      "outputs": []
    }
  ]
}